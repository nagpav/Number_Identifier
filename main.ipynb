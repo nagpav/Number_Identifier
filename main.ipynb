{
 "cells": [
  {
   "attachments": {},
   "cell_type": "markdown",
   "metadata": {},
   "source": [
    "importing nessasary libraries and datasets"
   ]
  },
  {
   "cell_type": "code",
   "execution_count": 41,
   "metadata": {},
   "outputs": [],
   "source": [
    "import tensorflow as tf\n",
    "import keras\n",
    "import emnist\n",
    "import matplotlib.pyplot as plt\n",
    "import numpy as np\n",
    "from PIL import Image"
   ]
  },
  {
   "attachments": {},
   "cell_type": "markdown",
   "metadata": {},
   "source": [
    "extracting the required images and downloading from EMNIST dataset"
   ]
  },
  {
   "cell_type": "code",
   "execution_count": 19,
   "metadata": {},
   "outputs": [],
   "source": [
    "from emnist import extract_training_samples, extract_test_samples\n",
    "\n",
    "# Download and extract the EMNIST dataset for numbers\n",
    "emnist.extract_training_samples('digits')\n",
    "emnist.extract_test_samples('digits')\n",
    "\n",
    "# Download and extract the EMNIST dataset for letters\n",
    "emnist.extract_training_samples('letters')\n",
    "emnist.extract_test_samples('letters')\n",
    "\n",
    "train_images_letters, train_labels_letters = extract_training_samples('letters')\n",
    "test_images_letters, test_labels_letters = extract_test_samples('letters')\n",
    "\n",
    "train_images_numbers, train_labels_numbers = extract_training_samples('digits')\n",
    "test_images_numbers, test_labels_numbers = extract_test_samples('digits')\n"
   ]
  },
  {
   "cell_type": "code",
   "execution_count": 20,
   "metadata": {},
   "outputs": [
    {
     "data": {
      "image/png": "[encoded data removed]",
      "text/plain": [
       "<Figure size 640x480 with 1 Axes>"
      ]
     },
     "metadata": {},
     "output_type": "display_data"
    }
   ],
   "source": [
    "# Normalize the pixel values between 0 and 1\n",
    "train_images_letters = np.where(train_images_letters > 0,1,0)\n",
    "test_images_letters = np.where(test_images_letters > 0,1,0)\n",
    "\n",
    "train_images_numbers = np.where(train_images_numbers > 0,1,0)\n",
    "test_images_numbers = np.where(test_images_numbers > 0,1,0)\n",
    "\n",
    "\n",
    "import random\n",
    "i = random.randint(1,40000)\n",
    "\n",
    "plt.imshow(train_images_numbers[i], cmap='binary')\n",
    "plt.title(f\"Label: {train_labels_numbers[i]}\")\n",
    "plt.axis('off')\n",
    "plt.show()"
   ]
  },
  {
   "cell_type": "code",
   "execution_count": 21,
   "metadata": {},
   "outputs": [
    {
     "data": {
      "image/png": "[encoded data removed]",
      "text/plain": [
       "<Figure size 640x480 with 1 Axes>"
      ]
     },
     "metadata": {},
     "output_type": "display_data"
    }
   ],
   "source": [
    "plt.imshow(train_images_letters[i], cmap='binary')\n",
    "plt.title(f\"Label: {train_labels_letters[i]}\")\n",
    "plt.axis('off')\n",
    "plt.show()"
   ]
  },
  {
   "cell_type": "code",
   "execution_count": 28,
   "metadata": {},
   "outputs": [],
   "source": [
    "# Reshape the images to (28, 28, 1)\n",
    "train_images_numbers = train_images_numbers.reshape(-1, 28, 28, 1)\n",
    "test_images_numbers = test_images_numbers.reshape(-1, 28, 28, 1)\n",
    "\n",
    "train_images_letters = train_images_letters.reshape(-1, 28, 28, 1)\n",
    "test_images_letters = test_images_letters.reshape(-1, 28, 28, 1)\n",
    "\n"
   ]
  },
  {
   "cell_type": "code",
   "execution_count": 30,
   "metadata": {},
   "outputs": [
    {
     "name": "stdout",
     "output_type": "stream",
     "text": [
      "Epoch 1/5\n",
      "6750/6750 [==============================] - 60s 9ms/step - loss: 0.1198 - accuracy: 0.9643 - val_loss: 0.0701 - val_accuracy: 0.9785\n",
      "Epoch 2/5\n",
      "6750/6750 [==============================] - 57s 8ms/step - loss: 0.0572 - accuracy: 0.9824 - val_loss: 0.0599 - val_accuracy: 0.9813\n",
      "Epoch 3/5\n",
      "6750/6750 [==============================] - 57s 8ms/step - loss: 0.0419 - accuracy: 0.9870 - val_loss: 0.0547 - val_accuracy: 0.9840\n",
      "Epoch 4/5\n",
      "6750/6750 [==============================] - 56s 8ms/step - loss: 0.0310 - accuracy: 0.9903 - val_loss: 0.0537 - val_accuracy: 0.9843\n",
      "Epoch 5/5\n",
      "6750/6750 [==============================] - 57s 8ms/step - loss: 0.0232 - accuracy: 0.9925 - val_loss: 0.0558 - val_accuracy: 0.9838\n",
      "1250/1250 [==============================] - 3s 3ms/step - loss: 0.0544 - accuracy: 0.9836\n",
      "1250/1250 [==============================] - 3s 2ms/step\n",
      "Unexpected exception formatting exception. Falling back to standard exception\n"
     ]
    },
    {
     "name": "stderr",
     "output_type": "stream",
     "text": [
      "Traceback (most recent call last):\n",
      "  File \"/usr/local/lib/python3.11/site-packages/IPython/core/interactiveshell.py\", line 3508, in run_code\n",
      "    exec(code_obj, self.user_global_ns, self.user_ns)\n",
      "  File \"/var/folders/f1/1gt4by8s091_bjbrb9wzwjtc0000gn/T/ipykernel_2035/2182815292.py\", line 28, in <module>\n",
      "    predictions = model.predict()\n",
      "                  ^^^^^^^^^^^^^^^\n",
      "  File \"/usr/local/lib/python3.11/site-packages/keras/utils/traceback_utils.py\", line 70, in error_handler\n",
      "    raise e.with_traceback(filtered_tb) from None\n",
      "  File \"/usr/local/lib/python3.11/site-packages/keras/utils/traceback_utils.py\", line 67, in error_handler\n",
      "    filtered_tb = _process_traceback_frames(e.__traceback__)\n",
      "                  ^^^^^^^^^^^^^^^^^^^^^^^^^^^^^^^^^^^^^^^^^^\n",
      "TypeError: Model.predict() missing 1 required positional argument: 'x'\n",
      "\n",
      "During handling of the above exception, another exception occurred:\n",
      "\n",
      "Traceback (most recent call last):\n",
      "  File \"/usr/local/lib/python3.11/site-packages/IPython/core/interactiveshell.py\", line 2105, in showtraceback\n",
      "    stb = self.InteractiveTB.structured_traceback(\n",
      "          ^^^^^^^^^^^^^^^^^^^^^^^^^^^^^^^^^^^^^^^^\n",
      "  File \"/usr/local/lib/python3.11/site-packages/IPython/core/ultratb.py\", line 1396, in structured_traceback\n",
      "    return FormattedTB.structured_traceback(\n",
      "           ^^^^^^^^^^^^^^^^^^^^^^^^^^^^^^^^^\n",
      "  File \"/usr/local/lib/python3.11/site-packages/IPython/core/ultratb.py\", line 1287, in structured_traceback\n",
      "    return VerboseTB.structured_traceback(\n",
      "           ^^^^^^^^^^^^^^^^^^^^^^^^^^^^^^^\n",
      "  File \"/usr/local/lib/python3.11/site-packages/IPython/core/ultratb.py\", line 1140, in structured_traceback\n",
      "    formatted_exception = self.format_exception_as_a_whole(etype, evalue, etb, number_of_lines_of_context,\n",
      "                          ^^^^^^^^^^^^^^^^^^^^^^^^^^^^^^^^^^^^^^^^^^^^^^^^^^^^^^^^^^^^^^^^^^^^^^^^^^^^^^^^\n",
      "  File \"/usr/local/lib/python3.11/site-packages/IPython/core/ultratb.py\", line 1030, in format_exception_as_a_whole\n",
      "    self.get_records(etb, number_of_lines_of_context, tb_offset) if etb else []\n",
      "    ^^^^^^^^^^^^^^^^^^^^^^^^^^^^^^^^^^^^^^^^^^^^^^^^^^^^^^^^^^^^\n",
      "  File \"/usr/local/lib/python3.11/site-packages/IPython/core/ultratb.py\", line 1127, in get_records\n",
      "    res = list(stack_data.FrameInfo.stack_data(etb, options=options))[tb_offset:]\n",
      "          ^^^^^^^^^^^^^^^^^^^^^^^^^^^^^^^^^^^^^^^^^^^^^^^^^^^^^^^^^^^\n",
      "  File \"/usr/local/lib/python3.11/site-packages/stack_data/core.py\", line 597, in stack_data\n",
      "    yield from collapse_repeated(\n",
      "  File \"/usr/local/lib/python3.11/site-packages/stack_data/utils.py\", line 83, in collapse_repeated\n",
      "    yield from map(mapper, original_group)\n",
      "  File \"/usr/local/lib/python3.11/site-packages/stack_data/core.py\", line 587, in mapper\n",
      "    return cls(f, options)\n",
      "           ^^^^^^^^^^^^^^^\n",
      "  File \"/usr/local/lib/python3.11/site-packages/stack_data/core.py\", line 551, in __init__\n",
      "    self.executing = Source.executing(frame_or_tb)\n",
      "                     ^^^^^^^^^^^^^^^^^^^^^^^^^^^^^\n",
      "  File \"/usr/local/lib/python3.11/site-packages/executing/executing.py\", line 378, in executing\n",
      "    assert_(new_stmts <= stmts)\n",
      "  File \"/usr/local/lib/python3.11/site-packages/executing/executing.py\", line 154, in assert_\n",
      "    raise AssertionError(str(message))\n",
      "AssertionError\n"
     ]
    }
   ],
   "source": [
    "# Define the input shape\n",
    "input_shape = (28, 28, 1)\n",
    "\n",
    "# Define the model architecture\n",
    "inputs = keras.Input(shape=input_shape)\n",
    "x = keras.layers.Conv2D(32, kernel_size=(3, 3), activation=\"relu\")(inputs)\n",
    "x = keras.layers.MaxPooling2D(pool_size=(2, 2))(x)\n",
    "x = keras.layers.Flatten()(x)\n",
    "x = keras.layers.Dense(64, activation=\"relu\")(x)\n",
    "outputs = keras.layers.Dense(10, activation=\"softmax\")(x)\n",
    "\n",
    "# Create the model\n",
    "model = keras.Model(inputs=inputs, outputs=outputs)\n",
    "\n",
    "# Compile the model\n",
    "model.compile(optimizer=\"adam\", loss=\"sparse_categorical_crossentropy\", metrics=[\"accuracy\"])\n",
    "\n",
    "# Train the model\n",
    "model.fit(train_images_numbers, train_labels_numbers, batch_size=32, epochs=5, validation_split=0.1)\n",
    "\n",
    "\n",
    "\n"
   ]
  },
  {
   "cell_type": "code",
   "execution_count": 63,
   "metadata": {},
   "outputs": [
    {
     "name": "stdout",
     "output_type": "stream",
     "text": [
      "1250/1250 [==============================] - 4s 3ms/step - loss: 0.0544 - accuracy: 0.9836\n"
     ]
    }
   ],
   "source": [
    "# Evaluate the model\n",
    "test_loss, test_accuracy = model.evaluate(test_images_numbers, test_labels_numbers)\n",
    "\n"
   ]
  },
  {
   "cell_type": "code",
   "execution_count": 144,
   "metadata": {},
   "outputs": [],
   "source": [
    "new_number = Image.open('IMG_6332.jpg')\n",
    "#new_number = new_number.thumbnail(28,28, resample=Image.ANTIALIAS)\n",
    "new_number = new_number.convert('L')\n",
    "max_dim = max(new_number.size)\n",
    "\n",
    "# Create a new square image with black background\n",
    "square_image = Image.new('1', (max_dim, max_dim), 1)\n",
    "\n",
    "# Calculate the position to paste the original image\n",
    "paste_position = ((max_dim - new_number.width) // 2, (max_dim - new_number.height) // 2)\n",
    "\n",
    "# Paste the original image onto the square image\n",
    "square_image.paste(new_number, paste_position)\n"
   ]
  },
  {
   "cell_type": "code",
   "execution_count": 145,
   "metadata": {},
   "outputs": [
    {
     "data": {
      "text/plain": [
       "<matplotlib.image.AxesImage at 0x165d6ff50>"
      ]
     },
     "execution_count": 145,
     "metadata": {},
     "output_type": "execute_result"
    },
    {
     "data": {
      "image/png": "[encoded data removed]",
      "text/plain": [
       "<Figure size 640x480 with 1 Axes>"
      ]
     },
     "metadata": {},
     "output_type": "display_data"
    }
   ],
   "source": [
    "new_number = square_image.resize((28, 28), Image.BICUBIC)\n",
    "new_number = np.array(new_number)\n",
    "new_number = new_number.astype(int)\n",
    "new_number = new_number.reshape(28, 28, 1)\n",
    "new_number = np.expand_dims(new_number, axis=0)\n",
    "#new_number = np.where(new_number < 100,0,1)\n",
    "\n",
    "plt.imshow(new_number.squeeze(axis=0), cmap= 'binary')"
   ]
  },
  {
   "cell_type": "code",
   "execution_count": 146,
   "metadata": {},
   "outputs": [
    {
     "name": "stdout",
     "output_type": "stream",
     "text": [
      "1/1 [==============================] - 0s 27ms/step\n",
      "Predicted class: 3\n"
     ]
    }
   ],
   "source": [
    "# Make predictions using the model\n",
    "predictions = model.predict(new_number)\n",
    "\n",
    "# Get the predicted class label\n",
    "predicted_class = np.argmax(predictions)\n",
    "\n",
    "# Print the predicted class label\n",
    "print(\"Predicted class:\", predicted_class)\n"
   ]
  },
  {
   "cell_type": "code",
   "execution_count": 133,
   "metadata": {},
   "outputs": [
    {
     "name": "stdout",
     "output_type": "stream",
     "text": [
      "You must install pydot (`pip install pydot`) and install graphviz (see instructions at https://graphviz.gitlab.io/download/) for plot_model to work.\n"
     ]
    }
   ],
   "source": [
    "\n",
    "tf.keras.utils.plot_model(\n",
    "    model,\n",
    "    to_file=\"model.png\",\n",
    "    show_shapes=True,\n",
    "    show_dtype=True,\n",
    "    show_layer_names=True,\n",
    "    rankdir=\"TB\",\n",
    "    expand_nested=True,\n",
    "    dpi=96,\n",
    "    layer_range=None,\n",
    "    show_layer_activations=True,\n",
    "    show_trainable=True,\n",
    ")"
   ]
  }
 ],
 "metadata": {
  "kernelspec": {
   "display_name": "Python 3",
   "language": "python",
   "name": "python3"
  },
  "language_info": {
   "codemirror_mode": {
    "name": "ipython",
    "version": 3
   },
   "file_extension": ".py",
   "mimetype": "text/x-python",
   "name": "python",
   "nbconvert_exporter": "python",
   "pygments_lexer": "ipython3",
   "version": "3.11.3"
  },
  "orig_nbformat": 4,
  "vscode": {
   "interpreter": {
    "hash": "aee8b7b246df8f9039afb4144a1f6fd8d2ca17a180786b69acc140d282b71a49"
   }
  }
 },
 "nbformat": 4,
 "nbformat_minor": 2
}
